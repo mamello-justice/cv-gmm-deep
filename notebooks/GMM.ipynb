{
 "cells": [
  {
   "cell_type": "markdown",
   "metadata": {},
   "source": [
    "# Computer Vision\n",
    "\n",
    "## Assignment - Gaussian Mixture Model (GMM)"
   ]
  },
  {
   "cell_type": "markdown",
   "metadata": {},
   "source": [
    "### Install"
   ]
  },
  {
   "cell_type": "code",
   "execution_count": 1,
   "metadata": {},
   "outputs": [
    {
     "name": "stdout",
     "output_type": "stream",
     "text": [
      "Note: you may need to restart the kernel to use updated packages.\n"
     ]
    },
    {
     "name": "stderr",
     "output_type": "stream",
     "text": [
      "\n",
      "[notice] A new release of pip available: 22.2.2 -> 22.3\n",
      "[notice] To update, run: python.exe -m pip install --upgrade pip\n"
     ]
    }
   ],
   "source": [
    "%pip install comet_ml --quiet"
   ]
  },
  {
   "cell_type": "markdown",
   "metadata": {},
   "source": [
    "### Comet Config"
   ]
  },
  {
   "cell_type": "code",
   "execution_count": 2,
   "metadata": {},
   "outputs": [
    {
     "name": "stderr",
     "output_type": "stream",
     "text": [
      "COMET WARNING: As you are running in a Jupyter environment, you will need to call `experiment.end()` when finished to ensure all metrics and code are logged before exiting.\n",
      "COMET INFO: Experiment is live on comet.com https://www.comet.com/mamello-justice/cv-gmm/f8636e8f3f83435c82a0d8d914814f4a\n",
      "\n"
     ]
    }
   ],
   "source": [
    "from comet_ml import Experiment\n",
    "\n",
    "experiment = Experiment(project_name = \"cv-gmm\")"
   ]
  },
  {
   "cell_type": "markdown",
   "metadata": {},
   "source": [
    "### Imports"
   ]
  },
  {
   "cell_type": "code",
   "execution_count": 3,
   "metadata": {},
   "outputs": [
    {
     "name": "stderr",
     "output_type": "stream",
     "text": [
      "c:\\Users\\LENOVO\\.pyenv-win-venv\\envs\\cv_gmm_deep\\lib\\site-packages\\tqdm\\auto.py:22: TqdmWarning: IProgress not found. Please update jupyter and ipywidgets. See https://ipywidgets.readthedocs.io/en/stable/user_install.html\n",
      "  from .autonotebook import tqdm as notebook_tqdm\n"
     ]
    },
    {
     "name": "stdout",
     "output_type": "stream",
     "text": [
      "numpy==1.23.4\n",
      "scipy==1.9.3\n"
     ]
    }
   ],
   "source": [
    "import time\n",
    "from os import path\n",
    "\n",
    "import matplotlib.pyplot as plt\n",
    "\n",
    "import numpy as np\n",
    "import scipy\n",
    "\n",
    "from cv_gmm_deep.datasets import load_data\n",
    "from cv_gmm_deep.common import flat_images, split_data, preprocess_data\n",
    "from cv_gmm_deep.gmm import GMM\n",
    "\n",
    "print(f\"numpy=={np.__version__}\")\n",
    "print(f\"scipy=={scipy.__version__}\")"
   ]
  },
  {
   "cell_type": "markdown",
   "metadata": {},
   "source": [
    "### Constants"
   ]
  },
  {
   "cell_type": "code",
   "execution_count": 4,
   "metadata": {},
   "outputs": [],
   "source": [
    "assets_dir = './assets'\n",
    "data_dir = './data'\n",
    "\n",
    "default_input_size = [768, 1024]\n",
    "default_input_dir = path.join(\n",
    "    assets_dir,\n",
    "    f'puzzle_corners_{default_input_size[1]}x{default_input_size[0]}')\n",
    "\n",
    "time_now = int(time.time())\n",
    "\n",
    "default_cp_path = path.join(data_dir, str(time_now), 'cp.ckpt')\n",
    "default_model_path = path.join(data_dir, str(time_now), 'model.h5')"
   ]
  },
  {
   "cell_type": "markdown",
   "metadata": {},
   "source": [
    "### Params"
   ]
  },
  {
   "cell_type": "code",
   "execution_count": 5,
   "metadata": {},
   "outputs": [],
   "source": [
    "params = {\n",
    "    'batch_size': 3,\n",
    "    'epochs': 2,\n",
    "    'features': ['rgb', 'DoG'],\n",
    "    'input_size': default_input_size,\n",
    "}\n",
    "\n",
    "experiment.log_parameters(params)"
   ]
  },
  {
   "cell_type": "markdown",
   "metadata": {},
   "source": [
    "### Setup"
   ]
  },
  {
   "cell_type": "code",
   "execution_count": 6,
   "metadata": {},
   "outputs": [],
   "source": [
    "def setup_args():\n",
    "    return {\n",
    "        'input_dir': default_input_dir,\n",
    "        'model_path': default_model_path,\n",
    "        'update_model': None\n",
    "    }"
   ]
  },
  {
   "cell_type": "markdown",
   "metadata": {},
   "source": [
    "### Train"
   ]
  },
  {
   "cell_type": "code",
   "execution_count": 7,
   "metadata": {},
   "outputs": [],
   "source": [
    "args = setup_args()\n",
    "\n",
    "batch_size = params['batch_size']\n",
    "epochs = params['epochs']\n",
    "features = params['features']\n",
    "input_size = params['input_size']\n",
    "\n",
    "input_dir = args['input_dir']\n",
    "model_path = args['model_path']\n",
    "update_model = args['update_model']\n",
    "\n",
    "height, width = input_size"
   ]
  },
  {
   "cell_type": "code",
   "execution_count": 8,
   "metadata": {},
   "outputs": [
    {
     "name": "stderr",
     "output_type": "stream",
     "text": [
      "Reading in images: 100%|██████████| 48/48 [00:01<00:00, 36.14it/s]\n",
      "Reading in masks: 100%|██████████| 48/48 [00:00<00:00, 231.89it/s]\n"
     ]
    }
   ],
   "source": [
    "raw_x, raw_y = load_data(input_dir, height, width)"
   ]
  },
  {
   "cell_type": "code",
   "execution_count": 9,
   "metadata": {},
   "outputs": [
    {
     "name": "stderr",
     "output_type": "stream",
     "text": [
      "Adding DoG: 100%|██████████| 48/48 [00:10<00:00,  4.49it/s]\n"
     ]
    }
   ],
   "source": [
    "data_x, data_y = preprocess_data(raw_x, raw_y, features)"
   ]
  },
  {
   "cell_type": "code",
   "execution_count": 10,
   "metadata": {},
   "outputs": [],
   "source": [
    "data_x, data_y = flat_images(data_x, data_y)"
   ]
  },
  {
   "cell_type": "code",
   "execution_count": 11,
   "metadata": {},
   "outputs": [],
   "source": [
    "(train_x, train_y), (val_x, val_y), (test_x, test_y) =\\\n",
    "    split_data(data_x, data_y, ratios=[0.7, .15, .15])\n",
    "    \n",
    "experiment.log_dataset_hash(train_x)"
   ]
  },
  {
   "cell_type": "code",
   "execution_count": 12,
   "metadata": {},
   "outputs": [
    {
     "name": "stderr",
     "output_type": "stream",
     "text": [
      "epoch 0:   3%|▎         | 1/33 [00:06<03:25,  6.43s/it]\n"
     ]
    },
    {
     "ename": "LinAlgError",
     "evalue": "When `allow_singular is False`, the input matrix must be symmetric positive definite.",
     "output_type": "error",
     "traceback": [
      "\u001b[1;31m---------------------------------------------------------------------------\u001b[0m",
      "\u001b[1;31mLinAlgError\u001b[0m                               Traceback (most recent call last)",
      "Cell \u001b[1;32mIn [12], line 12\u001b[0m\n\u001b[0;32m      8\u001b[0m \u001b[38;5;28;01massert\u001b[39;00m model \u001b[38;5;129;01mis\u001b[39;00m \u001b[38;5;129;01mnot\u001b[39;00m \u001b[38;5;28;01mNone\u001b[39;00m, \u001b[38;5;124m\"\u001b[39m\u001b[38;5;124mCould not load model\u001b[39m\u001b[38;5;124m\"\u001b[39m\n\u001b[0;32m     10\u001b[0m model\u001b[38;5;241m.\u001b[39mcompile()\n\u001b[1;32m---> 12\u001b[0m success \u001b[38;5;241m=\u001b[39m \u001b[43mmodel\u001b[49m\u001b[38;5;241;43m.\u001b[39;49m\u001b[43mtrain\u001b[49m\u001b[43m(\u001b[49m\u001b[43mtrain_x\u001b[49m\u001b[43m,\u001b[49m\u001b[43m \u001b[49m\u001b[43mepochs\u001b[49m\u001b[38;5;241;43m=\u001b[39;49m\u001b[43mepochs\u001b[49m\u001b[43m)\u001b[49m\n\u001b[0;32m     14\u001b[0m output, _ \u001b[38;5;241m=\u001b[39m model(train_x[:\u001b[38;5;241m2\u001b[39m])\n\u001b[0;32m     15\u001b[0m plt\u001b[38;5;241m.\u001b[39mimshow(np\u001b[38;5;241m.\u001b[39mreshape(output[\u001b[38;5;241m0\u001b[39m], (height, width)), cmap\u001b[38;5;241m=\u001b[39m\u001b[38;5;124m\"\u001b[39m\u001b[38;5;124mgray\u001b[39m\u001b[38;5;124m\"\u001b[39m)\n",
      "File \u001b[1;32mc:\\users\\lenovo\\develop\\coms4036a-labs\\assignment\\cv_gmm_deep\\gmm.py:110\u001b[0m, in \u001b[0;36mGMM.train\u001b[1;34m(self, x, epochs)\u001b[0m\n\u001b[0;32m    <a href='file:///c%3A/users/lenovo/develop/coms4036a-labs/assignment/cv_gmm_deep/gmm.py?line=107'>108</a>\u001b[0m \u001b[39mfor\u001b[39;00m ep \u001b[39min\u001b[39;00m \u001b[39mrange\u001b[39m(epochs):\n\u001b[0;32m    <a href='file:///c%3A/users/lenovo/develop/coms4036a-labs/assignment/cv_gmm_deep/gmm.py?line=108'>109</a>\u001b[0m     \u001b[39mfor\u001b[39;00m i \u001b[39min\u001b[39;00m trange(\u001b[39m0\u001b[39m, \u001b[39mlen\u001b[39m(x), desc\u001b[39m=\u001b[39m\u001b[39m'\u001b[39m\u001b[39mepoch \u001b[39m\u001b[39m%d\u001b[39;00m\u001b[39m'\u001b[39m \u001b[39m%\u001b[39m ep):\n\u001b[1;32m--> <a href='file:///c%3A/users/lenovo/develop/coms4036a-labs/assignment/cv_gmm_deep/gmm.py?line=109'>110</a>\u001b[0m         \u001b[39mself\u001b[39;49m\u001b[39m.\u001b[39;49m_train_step(x[i])\n\u001b[0;32m    <a href='file:///c%3A/users/lenovo/develop/coms4036a-labs/assignment/cv_gmm_deep/gmm.py?line=111'>112</a>\u001b[0m \u001b[39mreturn\u001b[39;00m \u001b[39mFalse\u001b[39;00m\n",
      "File \u001b[1;32mc:\\users\\lenovo\\develop\\coms4036a-labs\\assignment\\cv_gmm_deep\\gmm.py:102\u001b[0m, in \u001b[0;36mGMM._train_step\u001b[1;34m(self, x)\u001b[0m\n\u001b[0;32m    <a href='file:///c%3A/users/lenovo/develop/coms4036a-labs/assignment/cv_gmm_deep/gmm.py?line=100'>101</a>\u001b[0m \u001b[39mdef\u001b[39;00m \u001b[39m_train_step\u001b[39m(\u001b[39mself\u001b[39m, x):\n\u001b[1;32m--> <a href='file:///c%3A/users/lenovo/develop/coms4036a-labs/assignment/cv_gmm_deep/gmm.py?line=101'>102</a>\u001b[0m     ll \u001b[39m=\u001b[39m \u001b[39mself\u001b[39;49m\u001b[39m.\u001b[39;49m_e_step(x)\n\u001b[0;32m    <a href='file:///c%3A/users/lenovo/develop/coms4036a-labs/assignment/cv_gmm_deep/gmm.py?line=102'>103</a>\u001b[0m     \u001b[39mself\u001b[39m\u001b[39m.\u001b[39m_m_step(x, ll)\n",
      "File \u001b[1;32mc:\\users\\lenovo\\develop\\coms4036a-labs\\assignment\\cv_gmm_deep\\gmm.py:69\u001b[0m, in \u001b[0;36mGMM._e_step\u001b[1;34m(self, x)\u001b[0m\n\u001b[0;32m     <a href='file:///c%3A/users/lenovo/develop/coms4036a-labs/assignment/cv_gmm_deep/gmm.py?line=59'>60</a>\u001b[0m \u001b[39mdef\u001b[39;00m \u001b[39m_e_step\u001b[39m(\u001b[39mself\u001b[39m, x):\n\u001b[0;32m     <a href='file:///c%3A/users/lenovo/develop/coms4036a-labs/assignment/cv_gmm_deep/gmm.py?line=60'>61</a>\u001b[0m     \u001b[39m\"\"\"Expectation Step (Calculates responsibilities)\u001b[39;00m\n\u001b[0;32m     <a href='file:///c%3A/users/lenovo/develop/coms4036a-labs/assignment/cv_gmm_deep/gmm.py?line=61'>62</a>\u001b[0m \n\u001b[0;32m     <a href='file:///c%3A/users/lenovo/develop/coms4036a-labs/assignment/cv_gmm_deep/gmm.py?line=62'>63</a>\u001b[0m \u001b[39m    Args:\u001b[39;00m\n\u001b[1;32m   (...)\u001b[0m\n\u001b[0;32m     <a href='file:///c%3A/users/lenovo/develop/coms4036a-labs/assignment/cv_gmm_deep/gmm.py?line=66'>67</a>\u001b[0m \u001b[39m        (K, I): Responsibilities\u001b[39;00m\n\u001b[0;32m     <a href='file:///c%3A/users/lenovo/develop/coms4036a-labs/assignment/cv_gmm_deep/gmm.py?line=67'>68</a>\u001b[0m \u001b[39m    \"\"\"\u001b[39;00m\n\u001b[1;32m---> <a href='file:///c%3A/users/lenovo/develop/coms4036a-labs/assignment/cv_gmm_deep/gmm.py?line=68'>69</a>\u001b[0m     V_sum, V \u001b[39m=\u001b[39m \u001b[39mself\u001b[39;49m(x)\n\u001b[0;32m     <a href='file:///c%3A/users/lenovo/develop/coms4036a-labs/assignment/cv_gmm_deep/gmm.py?line=69'>70</a>\u001b[0m     \u001b[39mreturn\u001b[39;00m V \u001b[39m/\u001b[39m V_sum\n",
      "File \u001b[1;32mc:\\users\\lenovo\\develop\\coms4036a-labs\\assignment\\cv_gmm_deep\\gmm.py:55\u001b[0m, in \u001b[0;36mGMM.__call__\u001b[1;34m(self, x)\u001b[0m\n\u001b[0;32m     <a href='file:///c%3A/users/lenovo/develop/coms4036a-labs/assignment/cv_gmm_deep/gmm.py?line=51'>52</a>\u001b[0m values \u001b[39m=\u001b[39m np\u001b[39m.\u001b[39mempty((\u001b[39m0\u001b[39m, \u001b[39m*\u001b[39mx\u001b[39m.\u001b[39mshape[:\u001b[39m-\u001b[39m\u001b[39m1\u001b[39m]))\n\u001b[0;32m     <a href='file:///c%3A/users/lenovo/develop/coms4036a-labs/assignment/cv_gmm_deep/gmm.py?line=53'>54</a>\u001b[0m \u001b[39mfor\u001b[39;00m lambda_, mu, sigma \u001b[39min\u001b[39;00m \u001b[39mzip\u001b[39m(\u001b[39mself\u001b[39m\u001b[39m.\u001b[39mlambda_m, \u001b[39mself\u001b[39m\u001b[39m.\u001b[39mmu_m, \u001b[39mself\u001b[39m\u001b[39m.\u001b[39msigma_m):\n\u001b[1;32m---> <a href='file:///c%3A/users/lenovo/develop/coms4036a-labs/assignment/cv_gmm_deep/gmm.py?line=54'>55</a>\u001b[0m     y \u001b[39m=\u001b[39m lambda_ \u001b[39m*\u001b[39m multivariate_normal\u001b[39m.\u001b[39;49mpdf(x, mu, sigma)\n\u001b[0;32m     <a href='file:///c%3A/users/lenovo/develop/coms4036a-labs/assignment/cv_gmm_deep/gmm.py?line=55'>56</a>\u001b[0m     values \u001b[39m=\u001b[39m np\u001b[39m.\u001b[39mappend(values, [y], axis\u001b[39m=\u001b[39m\u001b[39m0\u001b[39m)\n\u001b[0;32m     <a href='file:///c%3A/users/lenovo/develop/coms4036a-labs/assignment/cv_gmm_deep/gmm.py?line=57'>58</a>\u001b[0m \u001b[39mreturn\u001b[39;00m np\u001b[39m.\u001b[39msum(values, axis\u001b[39m=\u001b[39m\u001b[39m0\u001b[39m), values\n",
      "File \u001b[1;32mc:\\Users\\LENOVO\\.pyenv-win-venv\\envs\\cv_gmm_deep\\lib\\site-packages\\scipy\\stats\\_multivariate.py:541\u001b[0m, in \u001b[0;36mmultivariate_normal_gen.pdf\u001b[1;34m(self, x, mean, cov, allow_singular)\u001b[0m\n\u001b[0;32m    <a href='file:///c%3A/Users/LENOVO/.pyenv-win-venv/envs/cv_gmm_deep/lib/site-packages/scipy/stats/_multivariate.py?line=538'>539</a>\u001b[0m dim, mean, cov \u001b[39m=\u001b[39m \u001b[39mself\u001b[39m\u001b[39m.\u001b[39m_process_parameters(\u001b[39mNone\u001b[39;00m, mean, cov)\n\u001b[0;32m    <a href='file:///c%3A/Users/LENOVO/.pyenv-win-venv/envs/cv_gmm_deep/lib/site-packages/scipy/stats/_multivariate.py?line=539'>540</a>\u001b[0m x \u001b[39m=\u001b[39m \u001b[39mself\u001b[39m\u001b[39m.\u001b[39m_process_quantiles(x, dim)\n\u001b[1;32m--> <a href='file:///c%3A/Users/LENOVO/.pyenv-win-venv/envs/cv_gmm_deep/lib/site-packages/scipy/stats/_multivariate.py?line=540'>541</a>\u001b[0m psd \u001b[39m=\u001b[39m _PSD(cov, allow_singular\u001b[39m=\u001b[39;49mallow_singular)\n\u001b[0;32m    <a href='file:///c%3A/Users/LENOVO/.pyenv-win-venv/envs/cv_gmm_deep/lib/site-packages/scipy/stats/_multivariate.py?line=541'>542</a>\u001b[0m out \u001b[39m=\u001b[39m np\u001b[39m.\u001b[39mexp(\u001b[39mself\u001b[39m\u001b[39m.\u001b[39m_logpdf(x, mean, psd\u001b[39m.\u001b[39mU, psd\u001b[39m.\u001b[39mlog_pdet, psd\u001b[39m.\u001b[39mrank))\n\u001b[0;32m    <a href='file:///c%3A/Users/LENOVO/.pyenv-win-venv/envs/cv_gmm_deep/lib/site-packages/scipy/stats/_multivariate.py?line=542'>543</a>\u001b[0m \u001b[39mif\u001b[39;00m allow_singular \u001b[39mand\u001b[39;00m (psd\u001b[39m.\u001b[39mrank \u001b[39m<\u001b[39m dim):\n",
      "File \u001b[1;32mc:\\Users\\LENOVO\\.pyenv-win-venv\\envs\\cv_gmm_deep\\lib\\site-packages\\scipy\\stats\\_multivariate.py:167\u001b[0m, in \u001b[0;36m_PSD.__init__\u001b[1;34m(self, M, cond, rcond, lower, check_finite, allow_singular)\u001b[0m\n\u001b[0;32m    <a href='file:///c%3A/Users/LENOVO/.pyenv-win-venv/envs/cv_gmm_deep/lib/site-packages/scipy/stats/_multivariate.py?line=163'>164</a>\u001b[0m \u001b[39mif\u001b[39;00m \u001b[39mlen\u001b[39m(d) \u001b[39m<\u001b[39m \u001b[39mlen\u001b[39m(s) \u001b[39mand\u001b[39;00m \u001b[39mnot\u001b[39;00m allow_singular:\n\u001b[0;32m    <a href='file:///c%3A/Users/LENOVO/.pyenv-win-venv/envs/cv_gmm_deep/lib/site-packages/scipy/stats/_multivariate.py?line=164'>165</a>\u001b[0m     msg \u001b[39m=\u001b[39m (\u001b[39m\"\u001b[39m\u001b[39mWhen `allow_singular is False`, the input matrix must be \u001b[39m\u001b[39m\"\u001b[39m\n\u001b[0;32m    <a href='file:///c%3A/Users/LENOVO/.pyenv-win-venv/envs/cv_gmm_deep/lib/site-packages/scipy/stats/_multivariate.py?line=165'>166</a>\u001b[0m            \u001b[39m\"\u001b[39m\u001b[39msymmetric positive definite.\u001b[39m\u001b[39m\"\u001b[39m)\n\u001b[1;32m--> <a href='file:///c%3A/Users/LENOVO/.pyenv-win-venv/envs/cv_gmm_deep/lib/site-packages/scipy/stats/_multivariate.py?line=166'>167</a>\u001b[0m     \u001b[39mraise\u001b[39;00m np\u001b[39m.\u001b[39mlinalg\u001b[39m.\u001b[39mLinAlgError(msg)\n\u001b[0;32m    <a href='file:///c%3A/Users/LENOVO/.pyenv-win-venv/envs/cv_gmm_deep/lib/site-packages/scipy/stats/_multivariate.py?line=167'>168</a>\u001b[0m s_pinv \u001b[39m=\u001b[39m _pinv_1d(s, eps)\n\u001b[0;32m    <a href='file:///c%3A/Users/LENOVO/.pyenv-win-venv/envs/cv_gmm_deep/lib/site-packages/scipy/stats/_multivariate.py?line=168'>169</a>\u001b[0m U \u001b[39m=\u001b[39m np\u001b[39m.\u001b[39mmultiply(u, np\u001b[39m.\u001b[39msqrt(s_pinv))\n",
      "\u001b[1;31mLinAlgError\u001b[0m: When `allow_singular is False`, the input matrix must be symmetric positive definite."
     ]
    }
   ],
   "source": [
    "N, pixels, features = train_x.shape\n",
    "\n",
    "if update_model and model_path:\n",
    "    model = GMM.load_model(model_path)\n",
    "else:\n",
    "    model = GMM(K=2, D=features, I=pixels)\n",
    "\n",
    "assert model is not None, \"Could not load model\"\n",
    "\n",
    "model.compile()\n",
    "\n",
    "success = model.train(train_x, epochs=epochs)\n",
    "\n",
    "output, _ = model(train_x[:2])\n",
    "plt.imshow(np.reshape(output[0], (height, width)), cmap=\"gray\")\n",
    "\n",
    "if model_path is not None:\n",
    "    model.save(model_path)\n"
   ]
  },
  {
   "cell_type": "markdown",
   "metadata": {},
   "source": [
    "### Comet Commit"
   ]
  },
  {
   "cell_type": "code",
   "execution_count": null,
   "metadata": {},
   "outputs": [],
   "source": [
    "experiment.end()"
   ]
  }
 ],
 "metadata": {
  "interpreter": {
   "hash": "14a7046b3493b92b1d842fb1e941b2babd846baed7e15e3a50bd6e259b71f0cc"
  },
  "kernelspec": {
   "display_name": "Python 3.10.7 64-bit (system)",
   "language": "python",
   "name": "python3"
  },
  "language_info": {
   "codemirror_mode": {
    "name": "ipython",
    "version": 3
   },
   "file_extension": ".py",
   "mimetype": "text/x-python",
   "name": "python",
   "nbconvert_exporter": "python",
   "pygments_lexer": "ipython3",
   "version": "3.10.7"
  },
  "orig_nbformat": 4
 },
 "nbformat": 4,
 "nbformat_minor": 2
}
